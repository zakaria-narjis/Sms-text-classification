{
  "nbformat": 4,
  "nbformat_minor": 0,
  "metadata": {
    "colab": {
      "provenance": [],
      "collapsed_sections": [],
      "authorship_tag": "ABX9TyMcbO/OU6bQXo+FyAmBtkek",
      "include_colab_link": true
    },
    "kernelspec": {
      "name": "python3",
      "display_name": "Python 3"
    },
    "language_info": {
      "name": "python"
    },
    "accelerator": "GPU"
  },
  "cells": [
    {
      "cell_type": "markdown",
      "metadata": {
        "id": "view-in-github",
        "colab_type": "text"
      },
      "source": [
        "<a href=\"https://colab.research.google.com/github/zakaria-narjis/Sms-text-classification/blob/main/sms_classification.ipynb\" target=\"_parent\"><img src=\"https://colab.research.google.com/assets/colab-badge.svg\" alt=\"Open In Colab\"/></a>"
      ]
    },
    {
      "cell_type": "code",
      "execution_count": 1,
      "metadata": {
        "id": "UPp0a3i5RfVU"
      },
      "outputs": [],
      "source": [
        "#import libraries\n",
        "import tensorflow as tf\n",
        "import pandas as pd\n",
        "from tensorflow import keras\n",
        "import tensorflow_datasets as tfds\n",
        "import numpy as np\n",
        "import matplotlib.pyplot as plt"
      ]
    },
    {
      "cell_type": "code",
      "source": [
        "# get data files\n",
        "!wget https://cdn.freecodecamp.org/project-data/sms/train-data.tsv\n",
        "!wget https://cdn.freecodecamp.org/project-data/sms/valid-data.tsv\n",
        "\n",
        "train_file_path = \"train-data.tsv\"\n",
        "test_file_path = \"valid-data.tsv\""
      ],
      "metadata": {
        "colab": {
          "base_uri": "https://localhost:8080/"
        },
        "id": "AolJ6y0zSLx3",
        "outputId": "e33cf14e-039a-48a5-cff8-3c2c050d7076"
      },
      "execution_count": 2,
      "outputs": [
        {
          "output_type": "stream",
          "name": "stdout",
          "text": [
            "--2022-10-22 10:45:00--  https://cdn.freecodecamp.org/project-data/sms/train-data.tsv\n",
            "Resolving cdn.freecodecamp.org (cdn.freecodecamp.org)... 104.26.2.33, 172.67.70.149, 104.26.3.33, ...\n",
            "Connecting to cdn.freecodecamp.org (cdn.freecodecamp.org)|104.26.2.33|:443... connected.\n",
            "HTTP request sent, awaiting response... 200 OK\n",
            "Length: 358233 (350K) [text/tab-separated-values]\n",
            "Saving to: ‘train-data.tsv’\n",
            "\n",
            "\rtrain-data.tsv        0%[                    ]       0  --.-KB/s               \rtrain-data.tsv      100%[===================>] 349.84K  --.-KB/s    in 0.03s   \n",
            "\n",
            "2022-10-22 10:45:00 (11.1 MB/s) - ‘train-data.tsv’ saved [358233/358233]\n",
            "\n",
            "--2022-10-22 10:45:00--  https://cdn.freecodecamp.org/project-data/sms/valid-data.tsv\n",
            "Resolving cdn.freecodecamp.org (cdn.freecodecamp.org)... 104.26.2.33, 172.67.70.149, 104.26.3.33, ...\n",
            "Connecting to cdn.freecodecamp.org (cdn.freecodecamp.org)|104.26.2.33|:443... connected.\n",
            "HTTP request sent, awaiting response... 200 OK\n",
            "Length: 118774 (116K) [text/tab-separated-values]\n",
            "Saving to: ‘valid-data.tsv’\n",
            "\n",
            "valid-data.tsv      100%[===================>] 115.99K  --.-KB/s    in 0.01s   \n",
            "\n",
            "2022-10-22 10:45:00 (9.25 MB/s) - ‘valid-data.tsv’ saved [118774/118774]\n",
            "\n"
          ]
        }
      ]
    },
    {
      "cell_type": "code",
      "source": [
        "train_dataset=tf.data.TextLineDataset(train_file_path)\n",
        "valid_dataset=tf.data.TextLineDataset(test_file_path)"
      ],
      "metadata": {
        "id": "zwvyUjImSfFN"
      },
      "execution_count": 3,
      "outputs": []
    },
    {
      "cell_type": "code",
      "source": [
        "def process_function(dataset):\n",
        "    ds=dataset.map(lambda x:tf.strings.split(x, sep='\\t'))\n",
        "    ds=ds.map(lambda x:(x[1],x[0]))\n",
        "    ds=ds.map(lambda x,y:(x,tf.cast(tf.math.equal(y,'spam'),tf.int32)))\n",
        "    return ds"
      ],
      "metadata": {
        "id": "qztukiLlSgbu"
      },
      "execution_count": 4,
      "outputs": []
    },
    {
      "cell_type": "code",
      "source": [
        "train_dataset=process_function(train_dataset)\n",
        "valid_dataset=process_function(valid_dataset)"
      ],
      "metadata": {
        "id": "VJ2L2b4zSkKx"
      },
      "execution_count": 5,
      "outputs": []
    },
    {
      "cell_type": "code",
      "source": [
        "for feature,label in train_dataset.take(1):\n",
        "  print(feature)\n",
        "  print(label)"
      ],
      "metadata": {
        "colab": {
          "base_uri": "https://localhost:8080/"
        },
        "id": "3a4YFZf-Skd_",
        "outputId": "2ba8e946-8c61-431d-dfc2-0970e2898777"
      },
      "execution_count": 6,
      "outputs": [
        {
          "output_type": "stream",
          "name": "stdout",
          "text": [
            "tf.Tensor(b'ahhhh...just woken up!had a bad dream about u tho,so i dont like u right now :) i didnt know anything about comedy night but i guess im up for it.', shape=(), dtype=string)\n",
            "tf.Tensor(0, shape=(), dtype=int32)\n"
          ]
        }
      ]
    },
    {
      "cell_type": "code",
      "source": [
        "import tensorflow_hub as hub\n",
        "model=keras.Sequential()\n",
        "input=hub.KerasLayer(\"https://tfhub.dev/google/universal-sentence-encoder/4\",trainable=True, dtype=tf.string, input_shape=[])\n",
        "model.add(input)\n",
        "model.add(keras.layers.Dense(128,activation='relu'))\n",
        "model.add(keras.layers.Dense(1,activation='sigmoid'))\n",
        "model.compile(optimizer='adam',loss='binary_crossentropy',metrics=['accuracy'])"
      ],
      "metadata": {
        "id": "bJL1WK7YSns5"
      },
      "execution_count": 7,
      "outputs": []
    },
    {
      "cell_type": "code",
      "source": [
        "early_stopping=keras.callbacks.EarlyStopping(patience=5,restore_best_weights=True)"
      ],
      "metadata": {
        "id": "aBx-5pP2SpAv"
      },
      "execution_count": 8,
      "outputs": []
    },
    {
      "cell_type": "code",
      "source": [
        "batch_size=32\n",
        "train_set=train_dataset.shuffle(10000).batch(batch_size).prefetch(1)\n",
        "valid_set=valid_dataset.batch(batch_size).prefetch(1)"
      ],
      "metadata": {
        "id": "TaCCI2ehSqOk"
      },
      "execution_count": 9,
      "outputs": []
    },
    {
      "cell_type": "code",
      "source": [
        "model.summary()"
      ],
      "metadata": {
        "colab": {
          "base_uri": "https://localhost:8080/"
        },
        "id": "K6MyfkC2SsHl",
        "outputId": "5a1ca422-6494-4883-ee3f-0c6775a81694"
      },
      "execution_count": 10,
      "outputs": [
        {
          "output_type": "stream",
          "name": "stdout",
          "text": [
            "Model: \"sequential\"\n",
            "_________________________________________________________________\n",
            " Layer (type)                Output Shape              Param #   \n",
            "=================================================================\n",
            " keras_layer (KerasLayer)    (None, 512)               256797824 \n",
            "                                                                 \n",
            " dense (Dense)               (None, 128)               65664     \n",
            "                                                                 \n",
            " dense_1 (Dense)             (None, 1)                 129       \n",
            "                                                                 \n",
            "=================================================================\n",
            "Total params: 256,863,617\n",
            "Trainable params: 256,863,617\n",
            "Non-trainable params: 0\n",
            "_________________________________________________________________\n"
          ]
        }
      ]
    },
    {
      "cell_type": "code",
      "source": [
        "for feature,label in train_set.take(1):\n",
        "  print(feature)\n",
        "  print(label)"
      ],
      "metadata": {
        "colab": {
          "base_uri": "https://localhost:8080/"
        },
        "id": "KXBazlU4Stf9",
        "outputId": "d3ff965a-618f-40d9-fbb3-d7bdd6ae8d2a"
      },
      "execution_count": 11,
      "outputs": [
        {
          "output_type": "stream",
          "name": "stdout",
          "text": [
            "tf.Tensor(\n",
            "[b'thanks  and ! or bomb and date as my phone wanted to say!'\n",
            " b'hi chachi tried calling u now unable to reach u .. pl give me a missed cal once u c tiz msg  kanagu'\n",
            " b\"well at this right i'm gonna have to get up and check today's steam sales/pee so text me when you want me to come get you\"\n",
            " b'so gd got free ice cream... i oso wan...'\n",
            " b'haha yeah, 2 oz is kind of a shitload'\n",
            " b\"why don't you go tell your friend you're not sure you want to live with him because he smokes too much then spend hours begging him to come smoke\"\n",
            " b'dear good morning now only i am up' b\"sorry i'm not free...\"\n",
            " b\"do you ever notice that when you're driving, anyone going slower than you is an idiot and everyone driving faster than you is a maniac?\"\n",
            " b\"honestly i've just made a lovely cup of tea and promptly dropped my keys in it and then burnt my fingers getting them out!\"\n",
            " b'as usual..iam fine, happy &amp; doing well..:)'\n",
            " b'where do you need to go to get it?'\n",
            " b'say this slowly.? god,i love you &amp; i need you,clean my heart with your blood.send this to ten special people &amp; u c miracle tomorrow, do it,pls,pls do it...'\n",
            " b'yep then is fine 7.30 or 8.30 for ice age.'\n",
            " b'ah you see. you have to be in the lingo. i will let you know wot on earth it is when has finished making it!'\n",
            " b\"nvm it's ok...\"\n",
            " b\"forgot to tell \\xc3\\xbc smth.. can \\xc3\\xbc like number the sections so that it's clearer..\"\n",
            " b'i cant wait to see you! how were the photos were useful? :)'\n",
            " b'do you want 750 anytime any network mins 150 text and a new video phone for only five pounds per week call 08000776320 now or reply for delivery tomorrow'\n",
            " b'good. do you think you could send me some pix? i would love to see your top and bottom...'\n",
            " b'i know a few people i can hit up and fuck to the yes'\n",
            " b\"yo do you know anyone  &lt;#&gt;  or otherwise able to buy liquor? our guy flaked and right now if we don't get a hold of somebody its just 4 loko all night\"\n",
            " b'india have to take lead:)' b'here got lots of hair dresser fr china.'\n",
            " b'that day you asked about anand number. why:-)'\n",
            " b\"idk. you keep saying that you're not, but since he moved, we keep butting heads over freedom vs. responsibility. and i'm tired. i have so much other shit to deal with that i'm barely keeping myself together once this gets added to it.\"\n",
            " b'nah, wednesday. when should i bring the mini cheetos bag over?'\n",
            " b\"dunno i juz askin cos i got a card got 20% off 4 a salon called hair sense so i tot it's da one \\xc3\\xbc cut ur hair.\"\n",
            " b'can help u swoop by picking u up from wherever ur other birds r meeting if u want.'\n",
            " b'it will stop on itself. i however suggest she stays with someone that will be able to give ors for every stool.'\n",
            " b'final chance! claim ur \\xc2\\xa3150 worth of discount vouchers today! text yes to 85023 now! savamob, member offers mobile! t cs savamob pobox84, m263uz. \\xc2\\xa33.00 subs 16'\n",
            " b'tell where you reached'], shape=(32,), dtype=string)\n",
            "tf.Tensor([0 0 0 0 0 0 0 0 1 0 0 0 0 0 0 0 0 0 1 0 0 0 0 0 0 0 0 0 0 0 1 0], shape=(32,), dtype=int32)\n"
          ]
        }
      ]
    },
    {
      "cell_type": "code",
      "source": [
        "model.fit(train_set,validation_data=valid_set,epochs=1000,callbacks=[early_stopping])"
      ],
      "metadata": {
        "colab": {
          "base_uri": "https://localhost:8080/"
        },
        "id": "4iEr1I14Swir",
        "outputId": "89bdf57e-1879-4ea9-9b06-34d7bc1b3cd1"
      },
      "execution_count": 12,
      "outputs": [
        {
          "output_type": "stream",
          "name": "stdout",
          "text": [
            "Epoch 1/1000\n",
            "131/131 [==============================] - 32s 175ms/step - loss: 0.1333 - accuracy: 0.9586 - val_loss: 0.0467 - val_accuracy: 0.9856\n",
            "Epoch 2/1000\n",
            "131/131 [==============================] - 21s 156ms/step - loss: 0.0223 - accuracy: 0.9928 - val_loss: 0.0560 - val_accuracy: 0.9777\n",
            "Epoch 3/1000\n",
            "131/131 [==============================] - 22s 163ms/step - loss: 0.0066 - accuracy: 0.9988 - val_loss: 0.0424 - val_accuracy: 0.9878\n",
            "Epoch 4/1000\n",
            "131/131 [==============================] - 21s 157ms/step - loss: 0.0017 - accuracy: 0.9998 - val_loss: 0.0595 - val_accuracy: 0.9871\n",
            "Epoch 5/1000\n",
            "131/131 [==============================] - 21s 157ms/step - loss: 2.8628e-04 - accuracy: 1.0000 - val_loss: 0.0528 - val_accuracy: 0.9864\n",
            "Epoch 6/1000\n",
            "131/131 [==============================] - 21s 156ms/step - loss: 1.4250e-04 - accuracy: 1.0000 - val_loss: 0.0541 - val_accuracy: 0.9878\n",
            "Epoch 7/1000\n",
            "131/131 [==============================] - 21s 156ms/step - loss: 9.7993e-05 - accuracy: 1.0000 - val_loss: 0.0559 - val_accuracy: 0.9871\n",
            "Epoch 8/1000\n",
            "131/131 [==============================] - 21s 158ms/step - loss: 7.3315e-05 - accuracy: 1.0000 - val_loss: 0.0575 - val_accuracy: 0.9871\n"
          ]
        },
        {
          "output_type": "execute_result",
          "data": {
            "text/plain": [
              "<keras.callbacks.History at 0x7ff8114ed650>"
            ]
          },
          "metadata": {},
          "execution_count": 12
        }
      ]
    },
    {
      "cell_type": "code",
      "source": [
        "# function to predict messages based on model\n",
        "# (should return list containing prediction and label, ex. [0.008318834938108921, 'ham'])\n",
        "def predict_message(pred_text):\n",
        "  proba=model(tf.constant([pred_text]),training=False) \n",
        "  proba=proba[0][0].numpy()\n",
        "  prediction=[proba,['ham','spam'][float(proba)>0.5]]\n",
        "  return prediction\n",
        "\n",
        "pred_text = \"how are you doing today?\"\n",
        "\n",
        "prediction = predict_message(pred_text)\n",
        "print(prediction)"
      ],
      "metadata": {
        "colab": {
          "base_uri": "https://localhost:8080/"
        },
        "id": "So3dXhnqSyaS",
        "outputId": "ed735fa2-5a51-4a7e-b29b-7d015012374b"
      },
      "execution_count": 13,
      "outputs": [
        {
          "output_type": "stream",
          "name": "stdout",
          "text": [
            "[0.0004456139, 'ham']\n"
          ]
        }
      ]
    },
    {
      "cell_type": "code",
      "source": [
        "predict_message('you won 500$ call to claim your prize.')"
      ],
      "metadata": {
        "colab": {
          "base_uri": "https://localhost:8080/"
        },
        "id": "WZjs2DsLS0Rw",
        "outputId": "b5af984c-18bd-4113-8d9a-0d021e2cdff0"
      },
      "execution_count": 14,
      "outputs": [
        {
          "output_type": "execute_result",
          "data": {
            "text/plain": [
              "[0.99611, 'spam']"
            ]
          },
          "metadata": {},
          "execution_count": 14
        }
      ]
    },
    {
      "cell_type": "code",
      "source": [
        "# Run this cell to test your function and model. Do not modify contents.\n",
        "def test_predictions():\n",
        "  test_messages = [\"how are you doing today\",\n",
        "                   \"sale today! to stop texts call 98912460324\",\n",
        "                   \"i dont want to go. can we try it a different day? available sat\",\n",
        "                   \"our new mobile video service is live. just install on your phone to start watching.\",\n",
        "                   \"you have won £1000 cash! call to claim your prize.\",\n",
        "                   \"i'll bring it tomorrow. don't forget the milk.\",\n",
        "                   \"wow, is your arm alright. that happened to me one time too\"\n",
        "                  ]\n",
        "\n",
        "  test_answers = [\"ham\", \"spam\", \"ham\", \"spam\", \"spam\", \"ham\", \"ham\"]\n",
        "  passed = True\n",
        "\n",
        "  for msg, ans in zip(test_messages, test_answers):\n",
        "    prediction = predict_message(msg)\n",
        "    if prediction[1] != ans:\n",
        "      passed = False\n",
        "\n",
        "  if passed:\n",
        "    print(\"You passed the challenge. Great job!\")\n",
        "  else:\n",
        "    print(\"You haven't passed yet. Keep trying.\")\n",
        "\n",
        "test_predictions()\n"
      ],
      "metadata": {
        "colab": {
          "base_uri": "https://localhost:8080/"
        },
        "id": "yNN_igZAS13e",
        "outputId": "4130e3c8-8e69-475e-8532-44b2a1a9b41f"
      },
      "execution_count": 15,
      "outputs": [
        {
          "output_type": "stream",
          "name": "stdout",
          "text": [
            "You passed the challenge. Great job!\n"
          ]
        }
      ]
    }
  ]
}